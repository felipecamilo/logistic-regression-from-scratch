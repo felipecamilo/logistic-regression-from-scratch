{
 "cells": [
  {
   "cell_type": "code",
   "execution_count": 197,
   "id": "97104e6d",
   "metadata": {},
   "outputs": [],
   "source": [
    "import numpy as np\n",
    "import pandas as pd"
   ]
  },
  {
   "cell_type": "code",
   "execution_count": 198,
   "id": "6a61973b",
   "metadata": {},
   "outputs": [],
   "source": [
    "data = pd.read_csv(\"dataset.csv\") #lendo dados\n",
    "data = data[data[\"species\"].isin([\"setosa\",\"virginica\"])] #escolhendo somente duas classes"
   ]
  },
  {
   "cell_type": "code",
   "execution_count": 199,
   "id": "420a9f31",
   "metadata": {},
   "outputs": [],
   "source": [
    "X = np.array(data.iloc[:,0:4])\n",
    "y = np.array(data[\"species\"]) #separando variavel resposta das preditoras"
   ]
  },
  {
   "cell_type": "code",
   "execution_count": 205,
   "id": "4d2a71a9",
   "metadata": {},
   "outputs": [],
   "source": [
    "def sigmoid(x):\n",
    "    x = np.clip(x, -500, 500) #definindo limite e evitando overflow\n",
    "    return (1/(1+np.exp(-x))) #função da sigmoide aplicando em um hiperplano\n",
    "    \n",
    "def lossfunc(x):\n",
    "    return( np.sum(np.log(1+ np.exp(x)) - y*x ) ) #função de custo\n",
    "\n",
    "def logReg(X,y):\n",
    "    classes = np.unique(y) #identificando nomes das classes\n",
    "    \n",
    "    X = np.column_stack([np.ones(X.shape[0]),X]) #criando matriz de delineamento\n",
    "    y = y == classes[0] #binarizando variavel resposta\n",
    "    \n",
    "    beta = np.zeros(X.shape[1]) #chute inicial dos betas\n",
    "    beta_derivative = np.ones(X.shape[1]) #criando de maneira auxiliar\n",
    "    gama = 1 #tamanho inicial do passo\n",
    "    \n",
    "    iteration = 0\n",
    "    \n",
    "    #algoritmo gradiente descendente\n",
    "    while (iteration < 10000 and np.linalg.norm(beta_derivative) > 0.00001):\n",
    "        beta_derivative = np.sum((sigmoid(X @ beta) - y)[:,None] * X, axis = 0)\n",
    "        \n",
    "        beta -= gama * beta_derivative\n",
    "        gama = gama/2\n",
    "        \n",
    "        iteration += 1\n",
    "        \n",
    "    return({\"parameters\":beta,\"classes\":classes})\n",
    "\n",
    "def predict(model, newX):\n",
    "    newX = np.column_stack([np.ones(newX.shape[0]),newX]) #matriz de delineamento\n",
    "    \n",
    "    prob = sigmoid(newX @ model[\"parameters\"]) #cálculo da P(Y = 1)\n",
    "    predictions = np.where(prob >= 0.5, model[\"classes\"][0], model[\"classes\"][1]) #classificação\n",
    "    \n",
    "    return({\"predictions\":predictions,\"probabilities\":prob})"
   ]
  },
  {
   "cell_type": "code",
   "execution_count": 259,
   "id": "eb5472c4",
   "metadata": {
    "scrolled": true
   },
   "outputs": [],
   "source": [
    "model = logReg(X[20:80,],y[20:80])"
   ]
  },
  {
   "cell_type": "code",
   "execution_count": 263,
   "id": "038cfd1e",
   "metadata": {
    "scrolled": true
   },
   "outputs": [
    {
     "data": {
      "text/plain": [
       "{'predictions': array(['setosa', 'setosa', 'setosa', 'setosa', 'setosa', 'setosa',\n",
       "        'setosa', 'setosa', 'setosa', 'setosa', 'setosa', 'setosa',\n",
       "        'setosa', 'setosa', 'setosa', 'setosa', 'setosa', 'setosa',\n",
       "        'setosa', 'setosa', 'virginica', 'virginica', 'virginica',\n",
       "        'virginica', 'virginica', 'virginica', 'virginica', 'virginica',\n",
       "        'virginica', 'virginica', 'virginica', 'virginica', 'virginica',\n",
       "        'virginica', 'virginica', 'virginica', 'virginica', 'virginica',\n",
       "        'virginica', 'virginica'], dtype='<U9'),\n",
       " 'probabilities': array([1.00000000e+000, 1.00000000e+000, 1.00000000e+000, 1.00000000e+000,\n",
       "        1.00000000e+000, 1.00000000e+000, 1.00000000e+000, 1.00000000e+000,\n",
       "        1.00000000e+000, 1.00000000e+000, 1.00000000e+000, 1.00000000e+000,\n",
       "        1.00000000e+000, 1.00000000e+000, 1.00000000e+000, 1.00000000e+000,\n",
       "        1.00000000e+000, 1.00000000e+000, 1.00000000e+000, 1.00000000e+000,\n",
       "        8.65821393e-155, 8.23514412e-147, 8.14278137e-147, 7.82569416e-119,\n",
       "        9.60749642e-139, 2.08281188e-156, 7.57839853e-140, 1.26183914e-131,\n",
       "        3.76610752e-111, 6.90388151e-131, 1.94777276e-143, 7.67276951e-124,\n",
       "        3.27865138e-129, 6.79484733e-150, 6.22547349e-145, 6.73452225e-130,\n",
       "        3.56082473e-127, 6.40618510e-126, 8.13486467e-132, 7.46025110e-122])}"
      ]
     },
     "execution_count": 263,
     "metadata": {},
     "output_type": "execute_result"
    }
   ],
   "source": [
    "predict(model, np.delete(X, np.arange(20,80), axis = 0)) #100% acurácia"
   ]
  },
  {
   "cell_type": "code",
   "execution_count": null,
   "id": "ab873a9b",
   "metadata": {},
   "outputs": [],
   "source": []
  }
 ],
 "metadata": {
  "kernelspec": {
   "display_name": "Python 3 (ipykernel)",
   "language": "python",
   "name": "python3"
  },
  "language_info": {
   "codemirror_mode": {
    "name": "ipython",
    "version": 3
   },
   "file_extension": ".py",
   "mimetype": "text/x-python",
   "name": "python",
   "nbconvert_exporter": "python",
   "pygments_lexer": "ipython3",
   "version": "3.9.13"
  }
 },
 "nbformat": 4,
 "nbformat_minor": 5
}
